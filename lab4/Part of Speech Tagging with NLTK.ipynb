{
 "cells": [
  {
   "cell_type": "markdown",
   "metadata": {},
   "source": [
    "### Part of Speech Tagging with NLTK\n",
    "\n",
    "What is Part of Speech?\n",
    "The part of speech explains how a word is used in a sentence. There are eight main parts of speech - nouns, pronouns, adjectives, verbs, adverbs, prepositions, conjunctions and interjections.\n",
    "\n",
    "One of the more powerful aspects of the NLTK module is the Part of Speech tagging that it can do for you. This means labeling words in a sentence as nouns, adjectives, verbs...etc. Even more impressive, it also labels by tense, and more. Here's a list of the tags, what they mean, and some examples:\n",
    "\n",
    "POS tag list:\n",
    "\n",
    "    CC\tcoordinating conjunction\n",
    "    CD\tcardinal digit\n",
    "    DT\tdeterminer\n",
    "    EX\texistential there (like: \"there is\" ... think of it like \"there exists\")\n",
    "    FW\tforeign word\n",
    "    IN\tpreposition/subordinating conjunction\n",
    "    JJ\tadjective\t'big'\n",
    "    JJR\tadjective, comparative\t'bigger'\n",
    "    JJS\tadjective, superlative\t'biggest'\n",
    "    LS\tlist marker\t1)\n",
    "    MD\tmodal\tcould, will\n",
    "    NN\tnoun, singular 'desk'\n",
    "    NNS\tnoun plural\t'desks'\n",
    "    NNP\tproper noun, singular\t'Harrison'\n",
    "    NNPS\tproper noun, plural\t'Americans'\n",
    "    PDT\tpredeterminer\t'all the kids'\n",
    "    POS\tpossessive ending\tparent\\'s\n",
    "    PRP\tpersonal pronoun\tI, he, she\n",
    "    PRP possessive pronoun\tmy, his, hers\n",
    "    RB\tadverb\tvery, silently,\n",
    "    RBR\tadverb, comparative\tbetter\n",
    "    RBS\tadverb, superlative\tbest\n",
    "    RP\tparticle\tgive up\n",
    "    TO\tto\tgo 'to' the store.\n",
    "    UH\tinterjection\terrrrrrrrm\n",
    "    VB\tverb, base form\ttake\n",
    "    VBD\tverb, past tense\ttook\n",
    "    VBG\tverb, gerund/present participle\ttaking\n",
    "    VBN\tverb, past participle\ttaken\n",
    "    VBP\tverb, sing. present, non-3d\ttake\n",
    "    VBZ\tverb, 3rd person sing. present\ttakes\n",
    "    WDT\twh-determiner\twhich\n",
    "    WP\twh-pronoun\twho, what\n",
    "    WP possessive wh-pronoun\twhose\n",
    "    WRB\twh-abverb\twhere, when\n"
   ]
  },
  {
   "cell_type": "code",
   "execution_count": 1,
   "metadata": {},
   "outputs": [],
   "source": [
    "import nltk"
   ]
  },
  {
   "cell_type": "code",
   "execution_count": 2,
   "metadata": {},
   "outputs": [
    {
     "data": {
      "text/plain": [
       "['My', 'name', 'is', 'Jocelyn']"
      ]
     },
     "execution_count": 2,
     "metadata": {},
     "output_type": "execute_result"
    }
   ],
   "source": [
    "sentence = \"My name is Jocelyn\"\n",
    "token = nltk.word_tokenize(sentence)\n",
    "token"
   ]
  },
  {
   "cell_type": "code",
   "execution_count": 3,
   "metadata": {},
   "outputs": [
    {
     "data": {
      "text/plain": [
       "[('My', 'PRP$'), ('name', 'NN'), ('is', 'VBZ'), ('Jocelyn', 'NNP')]"
      ]
     },
     "execution_count": 3,
     "metadata": {},
     "output_type": "execute_result"
    }
   ],
   "source": [
    "nltk.pos_tag(token)"
   ]
  },
  {
   "cell_type": "markdown",
   "metadata": {},
   "source": [
    "May have to download NLTK averaged_perceptron_tagger\n",
    "To accomplish this:\n",
    "\n",
    "```Python\n",
    "\n",
    "import nltk\n",
    "nltk.download('tagsets')\n",
    "\n",
    "```"
   ]
  },
  {
   "cell_type": "code",
   "execution_count": 7,
   "metadata": {},
   "outputs": [
    {
     "name": "stdout",
     "output_type": "stream",
     "text": [
      "PRP$: pronoun, possessive\n",
      "    her his mine my our ours their thy your\n"
     ]
    }
   ],
   "source": [
    "# We can get more details about any POS tag using help funciton of NLTK as follows.\n",
    "nltk.help.upenn_tagset(\"PRP$\")"
   ]
  },
  {
   "cell_type": "code",
   "execution_count": 8,
   "metadata": {},
   "outputs": [
    {
     "name": "stdout",
     "output_type": "stream",
     "text": [
      "NN: noun, common, singular or mass\n",
      "    common-carrier cabbage knuckle-duster Casino afghan shed thermostat\n",
      "    investment slide humour falloff slick wind hyena override subhumanity\n",
      "    machinist ...\n"
     ]
    }
   ],
   "source": [
    "nltk.help.upenn_tagset(\"NN\")"
   ]
  },
  {
   "cell_type": "code",
   "execution_count": 9,
   "metadata": {},
   "outputs": [
    {
     "name": "stdout",
     "output_type": "stream",
     "text": [
      "VBZ: verb, present tense, 3rd person singular\n",
      "    bases reconstructs marks mixes displeases seals carps weaves snatches\n",
      "    slumps stretches authorizes smolders pictures emerges stockpiles\n",
      "    seduces fizzes uses bolsters slaps speaks pleads ...\n"
     ]
    }
   ],
   "source": [
    "nltk.help.upenn_tagset(\"VBZ\")"
   ]
  },
  {
   "cell_type": "code",
   "execution_count": 11,
   "metadata": {},
   "outputs": [
    {
     "name": "stdout",
     "output_type": "stream",
     "text": [
      "NNP: noun, proper, singular\n",
      "    Motown Venneboerger Czestochwa Ranzer Conchita Trumplane Christos\n",
      "    Oceanside Escobar Kreisler Sawyer Cougar Yvette Ervin ODI Darryl CTCA\n",
      "    Shannon A.K.C. Meltex Liverpool ...\n"
     ]
    }
   ],
   "source": [
    "nltk.help.upenn_tagset(\"NNP\")"
   ]
  },
  {
   "cell_type": "code",
   "execution_count": null,
   "metadata": {},
   "outputs": [],
   "source": []
  }
 ],
 "metadata": {
  "kernelspec": {
   "display_name": "Python 2",
   "language": "python",
   "name": "python2"
  },
  "language_info": {
   "codemirror_mode": {
    "name": "ipython",
    "version": 2
   },
   "file_extension": ".py",
   "mimetype": "text/x-python",
   "name": "python",
   "nbconvert_exporter": "python",
   "pygments_lexer": "ipython2",
   "version": "2.7.10"
  }
 },
 "nbformat": 4,
 "nbformat_minor": 2
}
