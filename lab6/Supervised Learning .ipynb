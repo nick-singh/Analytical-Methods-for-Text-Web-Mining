{
 "cells": [
  {
   "cell_type": "markdown",
   "metadata": {},
   "source": [
    "## Predicting whether to wear a jacket or not depending on the weather\n",
    "\n",
    "Consider a very primitive example when you have to decide whether to wear a jacket or not depending on the weather. You have access to the training data as we call it:\n",
    "\n",
    "| Outside Temperature \t| Wear a Jacket \t|\n",
    "|---------------------\t|---------------\t|\n",
    "| 30                  \t| no            \t|\n",
    "| 25                  \t| no            \t|\n",
    "| 15                  \t| yes           \t|\n",
    "| 10                  \t| yes           \t|\n",
    "\n",
    "\n",
    "Somehow, your mind finds a connection between the input (temperature) and the output (decision to wear a jacket).\n",
    "\n",
    "So, if the temperature is 12°C, you would still wear a jacket although you were never told the outcome for that particular temperature.\n",
    "\n",
    "Now, lets move on to a slightly better algebraic problem which the computer will solve for us.\n",
    "\n",
    "\n",
    "### Sample Training Set\n",
    "Here, X is the input and y is the output.\n",
    "\n",
    "| X1 \t| X2 \t| X3 \t| Y   \t|\n",
    "|----\t|----\t|----\t|-----\t|\n",
    "| 1  \t| 2  \t| 3  \t| 14  \t|\n",
    "| 4  \t| 5  \t| 6  \t| 32  \t|\n",
    "| 21 \t| 22 \t| 23 \t| 134 \t|\n",
    "| 5  \t| 5  \t| 5  \t| 30  \t|\n",
    "| 11 \t| 12 \t| 13 \t| 74  \t|\n",
    "\n",
    "Given the training set you could easily guess that the output ```(y)``` is nothing but ```(x1 + 2 * x2 + 3 * x3)```.\n"
   ]
  },
  {
   "cell_type": "code",
   "execution_count": 3,
   "metadata": {},
   "outputs": [],
   "source": [
    "from random import randint\n",
    "TRAIN_SET_LIMIT = 1000\n",
    "TRAIN_SET_COUNT = 100\n",
    "\n",
    "TRAIN_INPUT = list()\n",
    "TRAIN_OUTPUT = list()\n",
    "for i in range(TRAIN_SET_COUNT):\n",
    "    a = randint(0, TRAIN_SET_LIMIT)\n",
    "    b = randint(0, TRAIN_SET_LIMIT)\n",
    "    c = randint(0, TRAIN_SET_LIMIT)\n",
    "    op = a + (2*b) + (3*c)\n",
    "    TRAIN_INPUT.append([a, b, c])\n",
    "    TRAIN_OUTPUT.append(op)"
   ]
  },
  {
   "cell_type": "markdown",
   "metadata": {},
   "source": [
    "### The ML Model -Linear Regression\n",
    "\n",
    "Working with linear regression model is simple. Create a model, train it and then use it :)\n",
    "\n",
    "\n",
    "\n",
    "### Train The Model\n",
    "We have the training set ready, so create a Linear Regression Model and pass it the training data."
   ]
  },
  {
   "cell_type": "code",
   "execution_count": 4,
   "metadata": {},
   "outputs": [
    {
     "name": "stderr",
     "output_type": "stream",
     "text": [
      "/Library/Python/2.7/site-packages/scipy/linalg/basic.py:1226: RuntimeWarning: internal gelsd driver lwork query error, required iwork dimension not returned. This is likely the result of LAPACK bug 0038, fixed in LAPACK 3.2.2 (released July 21, 2010). Falling back to 'gelss' driver.\n",
      "  warnings.warn(mesg, RuntimeWarning)\n"
     ]
    },
    {
     "data": {
      "text/plain": [
       "LinearRegression(copy_X=True, fit_intercept=True, n_jobs=-1, normalize=False)"
      ]
     },
     "execution_count": 4,
     "metadata": {},
     "output_type": "execute_result"
    }
   ],
   "source": [
    "from sklearn.linear_model import LinearRegression\n",
    "\n",
    "predictor = LinearRegression(n_jobs=-1)\n",
    "predictor.fit(X=TRAIN_INPUT, y=TRAIN_OUTPUT)"
   ]
  },
  {
   "cell_type": "markdown",
   "metadata": {},
   "source": [
    "### Test Data\n",
    "X = ```[[10, 20, 30]]```\n",
    "\n",
    "The outcome should be ```10 + 20 * 2 + 30 * 3 = 140```. Let’s see what we got…\n",
    "\n"
   ]
  },
  {
   "cell_type": "code",
   "execution_count": 5,
   "metadata": {},
   "outputs": [
    {
     "name": "stdout",
     "output_type": "stream",
     "text": [
      "Outcome : [140.]\n",
      "Coefficients : [1. 2. 3.]\n"
     ]
    }
   ],
   "source": [
    "X_TEST = [[10, 20, 30]]\n",
    "outcome = predictor.predict(X=X_TEST)\n",
    "coefficients = predictor.coef_\n",
    "\n",
    "print('Outcome : {}\\nCoefficients : {}'.format(outcome, coefficients))"
   ]
  },
  {
   "cell_type": "markdown",
   "metadata": {},
   "source": [
    "Did you notice what just happened? The model had access to the training data, through which it calculated the weights to assign to the inputs to arrive at the desired output. On giving test data, it successfully managed to get the right answer!"
   ]
  },
  {
   "cell_type": "code",
   "execution_count": null,
   "metadata": {},
   "outputs": [],
   "source": []
  }
 ],
 "metadata": {
  "kernelspec": {
   "display_name": "Python 2",
   "language": "python",
   "name": "python2"
  },
  "language_info": {
   "codemirror_mode": {
    "name": "ipython",
    "version": 2
   },
   "file_extension": ".py",
   "mimetype": "text/x-python",
   "name": "python",
   "nbconvert_exporter": "python",
   "pygments_lexer": "ipython2",
   "version": "2.7.10"
  }
 },
 "nbformat": 4,
 "nbformat_minor": 2
}
