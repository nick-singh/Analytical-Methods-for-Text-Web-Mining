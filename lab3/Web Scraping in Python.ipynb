{
 "cells": [
  {
   "cell_type": "markdown",
   "metadata": {},
   "source": [
    "### Web Scraping using Python\n",
    "\n",
    "In this tutorial, you'll learn how to extract data from the web, manipulate and clean data using Python's Pandas library.\n",
    "\n",
    "\n",
    "Web scraping is a term used to describe the use of a program or algorithm to extract and process large amounts of data from the web. Whether you are a data scientist, engineer, or anybody who analyzes large amounts of datasets, the ability to scrape data from the web is a useful skill to have. Let's say you find data from the web, and there is no direct way to download it, web scraping using Python is a skill you can use to extract the data into a useful form that can be imported.\n",
    "\n",
    "#### Web Scraping using Beautiful Soup & Mechanize\n",
    "\n",
    "To perform web scraping, you should also import the libraries shown below. The mechanize module is used to open URLs and act as a browser. The Beautiful Soup package is used to extract data from html files. The Beautiful Soup library's name is bs4 which stands for Beautiful Soup, version 4."
   ]
  },
  {
   "cell_type": "code",
   "execution_count": 53,
   "metadata": {},
   "outputs": [],
   "source": [
    "import mechanize, time, datetime, re\n",
    "from bs4 import BeautifulSoup\n",
    "\n",
    "import pandas as pd"
   ]
  },
  {
   "cell_type": "markdown",
   "metadata": {},
   "source": [
    "After importing necessary modules, you should specify the URL containing the dataset and set the necessary defaults. \n",
    "\n",
    "* The Headers are some standard header parameters that a browser expects\n",
    "* The base keys are the query parameters that are used when searching the actual page \n",
    "```\n",
    "'d1':'2019-05-18',\n",
    "'s':'start_time',\n",
    "'sd':'desc',\n",
    "'l': 10,\n",
    "'t':'article',\n",
    "'nsa':'eedition' \n",
    "```\n"
   ]
  },
  {
   "cell_type": "code",
   "execution_count": 47,
   "metadata": {},
   "outputs": [],
   "source": [
    "base = \"https://www.trinidadexpress.com/search/?\"\n",
    "headers = (\"User-agent\",\"Mozilla/5.0 (X11; U; Linux i686; en-US; rv:1.9.2.13) Gecko/20101206 Ubuntu/10.10 (maverick) Firefox/3.6.13\")\n",
    "basekeys = ['d1', 's', 'sd', 'l', 't', 'nsa']\n",
    "br = mechanize.Browser()\n",
    "br.set_handle_robots(False)\n",
    "addheaders = [headers]"
   ]
  },
  {
   "cell_type": "markdown",
   "metadata": {},
   "source": [
    "Based on how the site uses its search, we created a function ```build_daily_search``` to dynamically build a search query given the parameters"
   ]
  },
  {
   "cell_type": "code",
   "execution_count": 48,
   "metadata": {},
   "outputs": [],
   "source": [
    "def build_daily_search(keys = None, query = None):\n",
    "    q_list = []\n",
    "    for k in keys:\n",
    "        q_list.append(str(k)+\"=\"+str(query[k]))\n",
    "    q = \"&\".join(q_list)\n",
    "    return base+q"
   ]
  },
  {
   "cell_type": "markdown",
   "metadata": {},
   "source": [
    "The ```process_link``` function carries out a couple of operations:\n",
    "\n",
    "```Python\n",
    "# e.g. /news/local/charged-with-killing-wife-s-ex-boyfriend/article_0dba43a0-7b39-11e9-a62e-ef0d1c3758f4.html\n",
    "#opens the above url and stores the html content in the variable link\n",
    "link = br.open(\"https://www.trinidadexpress.com\"+url_link).read() \n",
    "#BeautifulSoup pares the html page to be processed\n",
    "soup = BeautifulSoup(link, 'html.parser') \n",
    "# to find the title, author, date created and image url we inspect the content of the page\n",
    "# and looks for the html attributes that are linked to the values we want \n",
    "# we then use beautifulSoup to find these values by their html attribues\n",
    "title = soup.find('h1', {'class', \"headline\"}).text.encode('ascii', 'ignore')\n",
    "author = soup.select('span[itemprop=\"author\"]')\n",
    "dateCreated = soup.find('time', {'class', \"asset-date text-muted\"})\n",
    "imgUrl = soup.find('div', {'class','image'})\n",
    "```\n",
    "\n",
    "Once we get the desired values we store them in a ```data``` variable. The next step is the get the actual text content from the site. This is done in a similar fasion as the other vaules.\n",
    "We investigate the ```html``` attributes that represent the values we want, in this case the attribute is the ```html <p>``` paragraph tag.\n",
    "\n",
    "We get all paragraph tags and extract the text from it. Once we obtain all the text we add it to the ```data``` variable and return."
   ]
  },
  {
   "cell_type": "code",
   "execution_count": 54,
   "metadata": {},
   "outputs": [],
   "source": [
    "def process_link(url_link):\n",
    "    print(\"processing: \", url_link)\n",
    "    try:\n",
    "        link = br.open(\"https://www.trinidadexpress.com\"+url_link).read()\n",
    "        soup = BeautifulSoup(link, 'html.parser')\n",
    "        title = soup.find('h1', {'class', \"headline\"}).text.encode('ascii', 'ignore')\n",
    "        author = soup.select('span[itemprop=\"author\"]')\n",
    "        dateCreated = soup.find('time', {'class', \"asset-date text-muted\"})\n",
    "        imgUrl = soup.find('div', {'class','image'})\n",
    "        data = {\n",
    "            'url':url_link,\n",
    "            'title': re.sub('\\W+ ','', title),\n",
    "            'author':author[0].text.encode('ascii', 'ignore') if len(author) > 0 else \"undefined\",\n",
    "            'dateCreated': dateCreated['datetime'] if dateCreated is not None\\\n",
    "                            else datetime.datetime.now().strftime('%Y-%m-%d %H:%M:%S'),\n",
    "            'imgUrl': imgUrl.find('img')['src'] if imgUrl is not None else \"undefined\"\n",
    "        }\n",
    "        article = soup.find('div', {'class':'asset-content subscriber-premium'}).find_all('p')\n",
    "        article_text = \"\"\n",
    "        for pgraph in article:\n",
    "            article_text+=pgraph.text.encode('ascii', 'ignore').replace('\\n','')\n",
    "        if imgUrl is not None:\n",
    "            caption = soup.find('figcaption', {'class', \"caption\"})\n",
    "            data['caption'] = re.sub('\\W+ ','', caption.text.encode('ascii', 'ignore')) \\\n",
    "            if caption is not None else \"undefined\"\n",
    "        data['article_text'] = article_text\n",
    "        return data\n",
    "    except Exception as e:\n",
    "        print(e)\n",
    "        return {}"
   ]
  },
  {
   "cell_type": "markdown",
   "metadata": {},
   "source": [
    "We've created a function above which when given a link, opens the link, views the content and extracts the desired content, however if we want to dynamically get all links that the main page has we would need to build a seperate function for that.\n",
    "\n",
    "The ```get_page_links``` function takes care of that for us. Given the query parameters outlined above we build the url in the format that the webpage expects it then same as above we:\n",
    "\n",
    "* Open the link ```open_url = br.open(url)```\n",
    "* Parse the result for processing ```soup = BeautifulSoup(open_url.read(), 'html.parser')```\n",
    "* Get the attribute that has the links we want ```content = soup.find(class_=\"results-container\")```\n",
    "* And for all the attributes in the page extract the links:\n",
    "```Python\n",
    "articles = []\n",
    "for link in link_containers:\n",
    "l = link.find('a')['href']\n",
    "article = process_link(l)\n",
    "articles.append(article)\n",
    "```"
   ]
  },
  {
   "cell_type": "code",
   "execution_count": 59,
   "metadata": {},
   "outputs": [],
   "source": [
    "def get_page_links(query):\n",
    "    print(query)\n",
    "    q = query\n",
    "    k = query.keys()\n",
    "    url = build_daily_search(k, q)\n",
    "    print(url)\n",
    "    open_url = br.open(url)\n",
    "    soup = BeautifulSoup(open_url.read(), 'html.parser')\n",
    "    links = []\n",
    "    content = soup.find(class_=\"results-container\")\n",
    "    link_containers = content.find_all('h3', {'class', \"tnt-headline\"})\n",
    "    articles = []\n",
    "    for link in link_containers:\n",
    "        l = link.find('a')['href']\n",
    "        article = process_link(l)\n",
    "        articles.append(article)\n",
    "    return articles"
   ]
  },
  {
   "cell_type": "code",
   "execution_count": 62,
   "metadata": {},
   "outputs": [],
   "source": [
    "qry = {\n",
    "        'd1':'2019-05-01', #start date\n",
    "        's':'start_time', #parameter name\n",
    "        'sd':'desc', # order\n",
    "        'l': 200, # number of links to display\n",
    "        't':'article', # type of articles\n",
    "        'nsa':'eedition' # parameter name\n",
    "    }"
   ]
  },
  {
   "cell_type": "code",
   "execution_count": 63,
   "metadata": {
    "scrolled": true
   },
   "outputs": [
    {
     "name": "stdout",
     "output_type": "stream",
     "text": [
      "{'nsa': 'eedition', 'l': 200, 's': 'start_time', 't': 'article', 'd1': '2019-05-01', 'sd': 'desc'}\n",
      "https://www.trinidadexpress.com/search/?nsa=eedition&l=200&s=start_time&t=article&d1=2019-05-01&sd=desc\n",
      "('processing: ', u'/sports/ocm-s-laurence-defends-aips-titles/article_dca5646a-7b4d-11e9-8bc7-5faa7cbfc555.html')\n",
      "('processing: ', u'/news/local/charged-with-killing-wife-s-ex-boyfriend/article_0dba43a0-7b39-11e9-a62e-ef0d1c3758f4.html')\n",
      "('processing: ', u'/news/local/year-old-gemma-killed-by-burglar-say-cops/article_7983d308-7b2f-11e9-a4ef-7f92e3e99d2c.html')\n",
      "('processing: ', u'/news/local/coconut-vendor-rapist-makes-escape-by-sea/article_c86a4bbe-7b1b-11e9-98b2-3791636abee6.html')\n",
      "('processing: ', u'/news/local/ganja-farmer-loses-crop-in-tobago/article_0e12af9c-7b0f-11e9-9baa-1b7e0b8cd068.html')\n",
      "('processing: ', u'/news/local/sympathy-for-fugitives-gary-does-not-care/article_cd3f94c0-7b0a-11e9-9748-8768d6ceaed5.html')\n",
      "('processing: ', u'/news/local/venezuelans-linked-ar-rifles/article_23f29060-7b0b-11e9-b289-b76f3b47b8ed.html')\n",
      "('processing: ', u'/news/local/escapees-to-be-charged-with-escaping/article_cfffd834-7b08-11e9-8fac-13e6a62055d9.html')\n",
      "('processing: ', u'/news/local/arsonist-sets-fire-to-roulette-machine-men-burnt/article_3307b75a-7b07-11e9-875b-5f677a4fe9ce.html')\n",
      "('processing: ', u'/news/local/blown-tyre-leads-to-highway-crossover-crash-death/article_5138d566-7b06-11e9-ba77-6f31c1c29f2a.html')\n",
      "('processing: ', u'/news/local/was-politics-at-play/article_68b5068c-7ae9-11e9-87a1-a39d11a2ef28.html')\n",
      "('processing: ', u'/news/local/big-people-helping-escapees/article_7c110c86-7aa2-11e9-abd0-1354c1151f3c.html')\n",
      "('processing: ', u'/news/local/the-optimal-port-location/article_0dc36684-7aa2-11e9-ae9d-eb6600ba55f5.html')\n",
      "('processing: ', u'/news/local/cops-social-media-photos-part-of-scavenger-hunt/article_867fb06a-7aa1-11e9-b7c0-57357da0db2e.html')\n",
      "('processing: ', u'/news/local/deadline-from-duke/article_26b4139c-7aa1-11e9-a0da-d77ffa43618c.html')\n",
      "('processing: ', u'/news/local/one-winner-takes-m-lotto-jackpot/article_0db59014-7aa1-11e9-9c71-9f33c9f91b0b.html')\n",
      "('processing: ', u'/features/local/walking-out-of-your-slippers/article_a361959c-7a95-11e9-be7e-9f9ff111df97.html')\n",
      "('processing: ', u'/opinion/columnists/nuh-water-nuh-deh-but/article_64e65a60-7a94-11e9-8bfd-937576bcab47.html')\n",
      "('processing: ', u'/opinion/editorials/consultation-please/article_9eeff2e8-7a94-11e9-8099-fb2f20600e40.html')\n",
      "('processing: ', u'/opinion/columnists/abortion-promotes-irresponsibility/article_0e95fb34-7a94-11e9-8d0c-e7d36aed23db.html')\n",
      "('processing: ', u'/opinion/letters/losing-the-soul-of-our-nation/article_59c08364-7a93-11e9-b5c8-83c310029213.html')\n",
      "('processing: ', u'/opinion/letters/current-situation-with-train-not-in-t-t-s-best/article_3979f988-7a92-11e9-83d3-fb31bb3ae127.html')\n",
      "('processing: ', u'/opinion/letters/we-need-basics-of-customer-service/article_cb7d6e1a-7a91-11e9-b65f-5bd01a8f2c82.html')\n",
      "('processing: ', u'/sports/local/simmo-free/article_fcc5a2fe-7a90-11e9-87a9-139e316dc4e0.html')\n",
      "('processing: ', u'/sports/local/no-part-time-loving/article_9a9cb932-7a90-11e9-81dc-27b3f6fec65d.html')\n",
      "('processing: ', u'/sports/local/forbes-swift-playing-with-kff-in-iceland/article_ccd08cb4-7a84-11e9-9e14-4b293074f35b.html')\n",
      "('processing: ', u'/sports/local/wright-jumps-to-silver/article_44f684fa-7a85-11e9-bfe8-7bc66545459b.html')\n",
      "('processing: ', u'/sports/local/integrity-and-consistency/article_2d60b212-7a84-11e9-bbbf-c70c3454e3f6.html')\n",
      "('processing: ', u'/sports/local/siewrattan-returns-for-itf-hibiscus/article_913efd7a-7a84-11e9-abd4-533243c91d93.html')\n",
      "('processing: ', u'/business/local/mid-year-review-better-days-ahead/article_5368fcea-7a83-11e9-ad80-b3a11b0bd847.html')\n",
      "('processing: ', u'/opinion/letters/total-chaos-and-disorder/article_d90e83d4-7a82-11e9-8c89-7767c35ec648.html')\n",
      "('processing: ', u'/opinion/letters/teach-children-the-benefits-of-hard-work/article_32245480-7a83-11e9-b954-17ab69f1c61d.html')\n",
      "('processing: ', u'/news/local/govt-members-shout-shame-as-opposition-members-abstain/article_06cd6c9a-7a74-11e9-b14c-c3741e5b8cc7.html')\n",
      "('processing: ', u'/news/local/gary-should-discipline-malicious-cops-urges-judge/article_816d689a-7a71-11e9-b049-97808be68859.html')\n",
      "('processing: ', u'/news/local/last-seen-on-the-brian-lara-promenade/article_c7f23678-7a6d-11e9-bb2b-e76af61a7df9.html')\n",
      "('processing: ', u'/news/local/final-farewell-for-bhagwansingh-s-founder/article_3012ad78-7a6e-11e9-97dd-6fb6d6345b73.html')\n",
      "('processing: ', u'/news/local/garcia-angers-imbert/article_9958b816-79da-11e9-b43f-3f722159428c.html')\n",
      "('processing: ', u'/sports/local/curtly-s-concern/article_4a1e8eaa-79cc-11e9-add4-478e435ce31a.html')\n",
      "('processing: ', u'/news/local/escapees-still-on-the-loose/article_2966e190-79da-11e9-9c0d-cbf5a794d044.html')\n",
      "('processing: ', u'/news/local/road-runner-collapses-near-sea-to-sea-finish/article_eefbcad0-79d8-11e9-a66a-77b9b933f0b5.html')\n",
      "('processing: ', u'/news/local/every-habitat-is-critical/article_79c28050-79d9-11e9-a3b6-5b21cb33f2d6.html')\n",
      "('processing: ', u'/sports/local/greaux-th-in-shanghai/article_e73372c4-79cb-11e9-a46a-234935ed2d7a.html')\n",
      "('processing: ', u'/news/local/resident-terrified-over-leaving-home/article_1230e5cc-79d8-11e9-91ff-bfaf979436fb.html')\n",
      "('processing: ', u'/features/local/tradition-keeps-their-inner-fires-burning/article_8b478a26-79d6-11e9-ba3b-3bd72dad8579.html')\n",
      "('processing: ', u'/sports/local/doing-it-for-the-fans/article_ca848d1c-79ca-11e9-b1b7-c7680a46be1a.html')\n",
      "('processing: ', u'/sports/local/a-caribbean-stalwart-passes-away/article_ab643d8c-79cb-11e9-8f13-1ff45c30e5eb.html')\n",
      "('processing: ', u'/sports/local/icc-world-cup-lloyd-predicts-vital-role-for-all-rounders/article_5903ee0c-79cb-11e9-8284-337c8c479d8e.html')\n",
      "('processing: ', u'/features/local/finding-that-sweet-spot/article_912e00e2-79d5-11e9-a8f9-cff4a04af19b.html')\n",
      "('processing: ', u'/features/local/big-box-of-chocolates/article_f24a37fc-79d4-11e9-b6f5-a72a3e724097.html')\n",
      "('processing: ', u'/features/local/the-art-of-guitar/article_46e746ee-79d3-11e9-9a13-87802ae09be0.html')\n",
      "('processing: ', u'/opinion/editorials/prison-emergency/article_d0f9a904-79d2-11e9-9b76-1747c2ae4dce.html')\n",
      "('processing: ', u'/opinion/columnists/colm-of-absurdistan/article_321b0a1c-79d2-11e9-92ee-43d98962c577.html')\n",
      "('processing: ', u'/opinion/columnists/the-nar-bungling/article_70120316-79d2-11e9-86ae-57df7e05b3e8.html')\n",
      "('processing: ', u'/opinion/columnists/with-bad-pay-govt-stay-thirsty-and-unwiped/article_65a62156-79d1-11e9-8b3d-67b82c70ac5a.html')\n",
      "('processing: ', u'/opinion/letters/making-the-case-for-accused-teachers/article_87eac38a-79d0-11e9-b517-bb52f9872610.html')\n",
      "('processing: ', u'/opinion/columnists/season-episode/article_16a127a4-79d1-11e9-9b5b-6749d19fd1c9.html')\n",
      "('processing: ', u'/opinion/columnists/cultural-and-environmental-violence/article_c67845e6-79d0-11e9-8cc3-9ffe08cf4cb8.html')\n",
      "('processing: ', u'/opinion/letters/all-groups-deserve-freedom-of-expression/article_a57aeb00-79d0-11e9-81eb-c3dde2f9d448.html')\n",
      "('processing: ', u'/opinion/letters/region-remains-indebted-to-hoyte/article_6bc555b2-79d0-11e9-91d4-2399f7087b92.html')\n",
      "('processing: ', u'/news/local/pregnant-mom-charged-with-exposing-infant-to-suffering/article_c7e33f34-7990-11e9-b06b-fb11d0030648.html')\n",
      "('processing: ', u'/news/local/state-witness-in-murder-begs-for-bail-fears-going-to/article_273a6a86-798f-11e9-8ed8-8364e28ebecc.html')\n",
      "('processing: ', u'/sports/local/bowlers-belted/article_3ec0e5e4-7909-11e9-9e26-0b1ee8f53492.html')\n",
      "('processing: ', u'/news/local/m-hdc-homes-for-south-quay-sando/article_0d7c042e-790d-11e9-a05f-87d7535ba8eb.html')\n",
      "('processing: ', u'/sports/local/mafeking-windball-tourney-heats-up-mayaro/article_bc1abbca-78fd-11e9-b84f-ff7f8c7b5401.html')\n",
      "('processing: ', u'/sports/local/elcock-reigns-at-abilene-classic/article_6ea1da44-78fe-11e9-b058-abd7d13725c4.html')\n",
      "('processing: ', u'/sports/local/no-easy-task-ahead-of-solskjaer/article_c25608cc-78fe-11e9-9ce6-2bdeeeb141d3.html')\n",
      "('processing: ', u'/sports/local/premier-division-t-round-of-bowls-off/article_b792e824-7908-11e9-8f2f-0f55b126b893.html')\n",
      "('processing: ', u'/news/local/camille-puzzled-by-toilet-paper-request/article_492e1aee-790c-11e9-afbf-372e578306f5.html')\n"
     ]
    },
    {
     "name": "stdout",
     "output_type": "stream",
     "text": [
      "('processing: ', u'/news/local/government-to-refurbish-prison-fence-after-escape/article_db688e4e-790c-11e9-bc37-b788098c87a4.html')\n",
      "('processing: ', u'/news/local/reward-for-fugitives/article_94b2f710-790b-11e9-9fe6-a7a63045c577.html')\n",
      "('processing: ', u'/news/local/miss-the-molester/article_17def4a0-790b-11e9-9cea-cfb7cc27af19.html')\n",
      "('processing: ', u'/business/local/imbert-up-to-m-from-tax-amnesty/article_be196ca8-7909-11e9-8252-d37adc654b08.html')\n",
      "('processing: ', u'/opinion/editorials/celebrating-harold-hoyte/article_0fc3e99e-78fa-11e9-936a-978337a314a3.html')\n",
      "('processing: ', u'/features/local/bonding-with-your-mother-in-law/article_30459816-78fa-11e9-8f38-9b2f7eecdd2c.html')\n",
      "('processing: ', u'/opinion/letters/leave-comfort-zone-behind/article_66f20134-78f9-11e9-8ae4-5b9c50ee981e.html')\n",
      "('processing: ', u'/opinion/columnists/adjusting-the-region-s-ties-with-europe/article_8219fba6-78f9-11e9-95f6-eb7c4fb99d5e.html')\n",
      "('processing: ', u'/opinion/columnists/a-song-a-dance-a-passage-back-home/article_b87f52c2-78f9-11e9-bc98-6f554cb22b5c.html')\n",
      "('processing: ', u'/opinion/columnists/the-creeping-crisis-in-energy/article_e390bb40-78f9-11e9-9c74-bb104ac2517b.html')\n",
      "('processing: ', u'/opinion/letters/brian-lara-the-footballer/article_2bea45a6-78f9-11e9-a056-cff3900aaa1e.html')\n",
      "('processing: ', u'/opinion/letters/the-rasta-the-hopping-lady-the-garbage-man/article_63dab212-78f8-11e9-a951-4bc9f0dc8a82.html')\n",
      "('processing: ', u'/opinion/letters/when-less-can-be-more/article_83fea7d8-78f8-11e9-b41f-9bc48b91bbc4.html')\n",
      "('processing: ', u'/opinion/letters/why-i-persist-with-camouflage-issue/article_af935872-78f7-11e9-826f-f3ebcb3b833c.html')\n",
      "('processing: ', u'/online_features/senior_living/video-games-that-help-young-women-solve-problems-and-express/article_44315a10-1c36-529b-8bdb-2009379af1f8.html')\n",
      "('processing: ', u'/tech/how-samsung-is-bracing-itself-for-the-latest-industrial-revolution/article_49948a72-78d5-11e9-8cd2-8b0776502cc4.html')\n",
      "('processing: ', u'/news/local/mortuary-marijuana-employee-arrested-charged/article_651e3f14-78d4-11e9-bc88-4f32faefa4fc.html')\n",
      "('processing: ', u'/news/local/m-bank-account-but-workers-told-bring-own-toilet-paper/article_10ec0f0e-78d2-11e9-9601-13809129da0d.html')\n",
      "('processing: ', u'/news/local/infant-kidnapped-after-girlfriend-dispute-cops-respond/article_850c74c0-78d0-11e9-ad28-5f3b530779fd.html')\n",
      "('processing: ', u'/news/local/wasa-seizes-farmer-s-pumps/article_2c363632-7863-11e9-8ab2-6f36a249f588.html')\n",
      "('processing: ', u'/online_features/senior_living/the-home-fire-safety-feature-you-probably-haven-t-thought/article_0691cbb7-c89d-5766-b7f5-ac351cf4f2b0.html')\n",
      "('processing: ', u'/online_features/senior_living/tips-to-help-college-grads-buy-the-perfect-vehicle/article_bb294e4d-2dde-53bf-b8a8-c9820cc89e1c.html')\n",
      "('processing: ', u'/news/local/coconut-vendor-raped/article_19fe232e-78bf-11e9-9631-3b2ed080d0f0.html')\n",
      "('processing: ', u'/online_features/senior_living/signs-symptoms-which-may-mean-your-rheumatoid-arthritis-is-uncontrolled/article_f49894ec-d7ea-5661-aaa0-7b59a80e5312.html')\n",
      "('processing: ', u'/news/local/pain-for-patients-car-park-chaos-at-sfgh/article_5b9d9cf8-78ae-11e9-be0d-a39305727308.html')\n",
      "('processing: ', u'/news/local/political-motive---break-in-at-opposition-senator-s/article_6df85f5c-78ac-11e9-b3e1-67ce0c2a3c4f.html')\n",
      "('processing: ', u'/news/local/lungs-punctured-school-teacher-s-ice-pick-attacker-on-the/article_9fd72e56-78aa-11e9-bd46-5735f459bd17.html')\n",
      "('processing: ', u'/online_features/espanol/herramientas-fabulosas-gu-a-de-regalos-para-el-d-a/article_ae842520-53e4-52d7-ab46-0ab46b7667f5.html')\n",
      "('processing: ', u'/online_features/senior_living/terrific-tools-a-father-s-day-gift-guide/article_61aaeabc-ea47-54e6-bbbb-0d09274942e3.html')\n",
      "('processing: ', u'/news/local/school-teacher-found-dead-on-beach-mourned-by-staff-pupils/article_669cc810-78a2-11e9-afb8-739d88cfb05f.html')\n",
      "('processing: ', u'/news/local/woman-in-road-rage-attack-speaks-out-whole-nation-against/article_a852d694-789f-11e9-99a7-4311827bae60.html')\n",
      "('processing: ', u'/online_features/senior_living/personalized-cancer-care-offers-new-hope-for-patients/article_1a3f6cf8-6bc9-5f85-a9a9-287c6fb1747e.html')\n"
     ]
    }
   ],
   "source": [
    "end_data = get_page_links(qry)\n",
    "df = pd.DataFrame(end_data)\n",
    "df.to_csv(qry['d1']+'-'+str(qry['l'])+'.csv', sep='^')"
   ]
  },
  {
   "cell_type": "code",
   "execution_count": null,
   "metadata": {},
   "outputs": [],
   "source": []
  }
 ],
 "metadata": {
  "kernelspec": {
   "display_name": "Python 2",
   "language": "python",
   "name": "python2"
  },
  "language_info": {
   "codemirror_mode": {
    "name": "ipython",
    "version": 2
   },
   "file_extension": ".py",
   "mimetype": "text/x-python",
   "name": "python",
   "nbconvert_exporter": "python",
   "pygments_lexer": "ipython2",
   "version": "2.7.10"
  }
 },
 "nbformat": 4,
 "nbformat_minor": 2
}
