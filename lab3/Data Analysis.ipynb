{
 "cells": [
  {
   "cell_type": "markdown",
   "metadata": {},
   "source": [
    "### Data Analysis and Visualization\n",
    "\n",
    "After doing our web scraping of the first 200 news clips published in the month of May 2019 we want to answer some simple questions:\n",
    "\n",
    "1. How many articles have no author or anonymous authors?\n",
    "2. Do the anonymous authors post captions? \n",
    "3. How long are the articles published by the anonymous authors?\n",
    "4. Do authors publish more than once?\n",
    "5. Can we describe the type of articles authors usually publish\n",
    "\n",
    "We import the pandas and numpy libries for data manipulation\n",
    "Matplotlib for plotting graphs\n"
   ]
  },
  {
   "cell_type": "code",
   "execution_count": 21,
   "metadata": {},
   "outputs": [],
   "source": [
    "import pandas as pd\n",
    "import numpy as np\n",
    "\n",
    "import matplotlib.pyplot as plt\n",
    "\n",
    "from nltk.tokenize import RegexpTokenizer\n",
    "from nltk.corpus import stopwords"
   ]
  },
  {
   "cell_type": "markdown",
   "metadata": {},
   "source": [
    "Read in the data that we scraped and stored in a CSV, note that this CSV uses the ```^``` to denote different columns, therefore when reading in the data we need to specify the seperator using the ```sep='^'``` attribute. "
   ]
  },
  {
   "cell_type": "code",
   "execution_count": 22,
   "metadata": {},
   "outputs": [],
   "source": [
    "df = pd.read_csv('2019-05-01-200.csv', sep='^')"
   ]
  },
  {
   "cell_type": "markdown",
   "metadata": {},
   "source": [
    "We then explore the data using ```df.head()``` to get a feel of the general data"
   ]
  },
  {
   "cell_type": "code",
   "execution_count": 44,
   "metadata": {},
   "outputs": [
    {
     "data": {
      "text/html": [
       "<div>\n",
       "<style scoped>\n",
       "    .dataframe tbody tr th:only-of-type {\n",
       "        vertical-align: middle;\n",
       "    }\n",
       "\n",
       "    .dataframe tbody tr th {\n",
       "        vertical-align: top;\n",
       "    }\n",
       "\n",
       "    .dataframe thead th {\n",
       "        text-align: right;\n",
       "    }\n",
       "</style>\n",
       "<table border=\"1\" class=\"dataframe\">\n",
       "  <thead>\n",
       "    <tr style=\"text-align: right;\">\n",
       "      <th></th>\n",
       "      <th>Unnamed: 0</th>\n",
       "      <th>article_text</th>\n",
       "      <th>author</th>\n",
       "      <th>caption</th>\n",
       "      <th>dateCreated</th>\n",
       "      <th>imgUrl</th>\n",
       "      <th>title</th>\n",
       "      <th>url</th>\n",
       "    </tr>\n",
       "  </thead>\n",
       "  <tbody>\n",
       "    <tr>\n",
       "      <th>0</th>\n",
       "      <td>0</td>\n",
       "      <td>Kwame Laurence will be in action for One Carib...</td>\n",
       "      <td>undefined</td>\n",
       "      <td>undefined</td>\n",
       "      <td>2019-05-20 18:57:54</td>\n",
       "      <td>data:image/png;base64,iVBORw0KGgoAAAANSUhEUgAA...</td>\n",
       "      <td>OCMs Laurence defends AIPS titles\\n</td>\n",
       "      <td>/sports/ocm-s-laurence-defends-aips-titles/art...</td>\n",
       "    </tr>\n",
       "    <tr>\n",
       "      <th>1</th>\n",
       "      <td>1</td>\n",
       "      <td>A Jamaican man is the second person to be char...</td>\n",
       "      <td>undefined</td>\n",
       "      <td>\\n\\nChargedJunior Thompson\\n\\n</td>\n",
       "      <td>2019-05-20 18:57:58</td>\n",
       "      <td>https://bloximages.newyork1.vip.townnews.com/t...</td>\n",
       "      <td>Charged with killing wife's ex-boyfriend\\n</td>\n",
       "      <td>/news/local/charged-with-killing-wife-s-ex-boy...</td>\n",
       "    </tr>\n",
       "    <tr>\n",
       "      <th>2</th>\n",
       "      <td>2</td>\n",
       "      <td>POLICE believe that burglars killed a 74-year-...</td>\n",
       "      <td>Gyasi Gonzales</td>\n",
       "      <td>\\n\\nFound deadGemma Khan\\n\\n</td>\n",
       "      <td>2019-05-20 18:58:01</td>\n",
       "      <td>https://bloximages.newyork1.vip.townnews.com/t...</td>\n",
       "      <td>74-year-old Gemma killed by burglarsay cops\\n</td>\n",
       "      <td>/news/local/year-old-gemma-killed-by-burglar-s...</td>\n",
       "    </tr>\n",
       "    <tr>\n",
       "      <th>3</th>\n",
       "      <td>3</td>\n",
       "      <td>In his bid to escape after raping a coconut ve...</td>\n",
       "      <td>Susan Mohammed</td>\n",
       "      <td>undefined</td>\n",
       "      <td>2019-05-20 18:58:03</td>\n",
       "      <td>https://bloximages.newyork1.vip.townnews.com/t...</td>\n",
       "      <td>Coconut vendor rapist makes escape by sea\\n</td>\n",
       "      <td>/news/local/coconut-vendor-rapist-makes-escape...</td>\n",
       "    </tr>\n",
       "    <tr>\n",
       "      <th>4</th>\n",
       "      <td>4</td>\n",
       "      <td>Tobago Divisional officers destroyed what they...</td>\n",
       "      <td>undefined</td>\n",
       "      <td>undefined</td>\n",
       "      <td>2019-05-20 18:58:10</td>\n",
       "      <td>https://bloximages.newyork1.vip.townnews.com/t...</td>\n",
       "      <td>Ganja farmer loses crop in Tobago\\n</td>\n",
       "      <td>/news/local/ganja-farmer-loses-crop-in-tobago/...</td>\n",
       "    </tr>\n",
       "  </tbody>\n",
       "</table>\n",
       "</div>"
      ],
      "text/plain": [
       "   Unnamed: 0                                       article_text  \\\n",
       "0           0  Kwame Laurence will be in action for One Carib...   \n",
       "1           1  A Jamaican man is the second person to be char...   \n",
       "2           2  POLICE believe that burglars killed a 74-year-...   \n",
       "3           3  In his bid to escape after raping a coconut ve...   \n",
       "4           4  Tobago Divisional officers destroyed what they...   \n",
       "\n",
       "           author                         caption          dateCreated  \\\n",
       "0       undefined                       undefined  2019-05-20 18:57:54   \n",
       "1       undefined  \\n\\nChargedJunior Thompson\\n\\n  2019-05-20 18:57:58   \n",
       "2  Gyasi Gonzales    \\n\\nFound deadGemma Khan\\n\\n  2019-05-20 18:58:01   \n",
       "3  Susan Mohammed                       undefined  2019-05-20 18:58:03   \n",
       "4       undefined                       undefined  2019-05-20 18:58:10   \n",
       "\n",
       "                                              imgUrl  \\\n",
       "0  data:image/png;base64,iVBORw0KGgoAAAANSUhEUgAA...   \n",
       "1  https://bloximages.newyork1.vip.townnews.com/t...   \n",
       "2  https://bloximages.newyork1.vip.townnews.com/t...   \n",
       "3  https://bloximages.newyork1.vip.townnews.com/t...   \n",
       "4  https://bloximages.newyork1.vip.townnews.com/t...   \n",
       "\n",
       "                                           title  \\\n",
       "0            OCMs Laurence defends AIPS titles\\n   \n",
       "1     Charged with killing wife's ex-boyfriend\\n   \n",
       "2  74-year-old Gemma killed by burglarsay cops\\n   \n",
       "3    Coconut vendor rapist makes escape by sea\\n   \n",
       "4            Ganja farmer loses crop in Tobago\\n   \n",
       "\n",
       "                                                 url  \n",
       "0  /sports/ocm-s-laurence-defends-aips-titles/art...  \n",
       "1  /news/local/charged-with-killing-wife-s-ex-boy...  \n",
       "2  /news/local/year-old-gemma-killed-by-burglar-s...  \n",
       "3  /news/local/coconut-vendor-rapist-makes-escape...  \n",
       "4  /news/local/ganja-farmer-loses-crop-in-tobago/...  "
      ]
     },
     "execution_count": 44,
     "metadata": {},
     "output_type": "execute_result"
    }
   ],
   "source": [
    "df.head()"
   ]
  },
  {
   "cell_type": "markdown",
   "metadata": {},
   "source": [
    "#### Question 1: How many articles have no author or anonymous authors?"
   ]
  },
  {
   "cell_type": "code",
   "execution_count": 24,
   "metadata": {},
   "outputs": [],
   "source": [
    "anon = df[df['author'] == 'undefined']"
   ]
  },
  {
   "cell_type": "code",
   "execution_count": 25,
   "metadata": {},
   "outputs": [
    {
     "data": {
      "text/plain": [
       "Unnamed: 0      38\n",
       "article_text    38\n",
       "author          38\n",
       "caption         38\n",
       "dateCreated     38\n",
       "imgUrl          38\n",
       "title           38\n",
       "url             38\n",
       "dtype: int64"
      ]
     },
     "execution_count": 25,
     "metadata": {},
     "output_type": "execute_result"
    }
   ],
   "source": [
    "anon.count()"
   ]
  },
  {
   "cell_type": "markdown",
   "metadata": {},
   "source": [
    "#### Question 2: Do the anonymous authors post captions?"
   ]
  },
  {
   "cell_type": "code",
   "execution_count": 30,
   "metadata": {},
   "outputs": [],
   "source": [
    "anon_capt = anon[anon['caption'] == 'undefined']"
   ]
  },
  {
   "cell_type": "code",
   "execution_count": 31,
   "metadata": {},
   "outputs": [
    {
     "data": {
      "text/plain": [
       "Unnamed: 0      21\n",
       "article_text    21\n",
       "author          21\n",
       "caption         21\n",
       "dateCreated     21\n",
       "imgUrl          21\n",
       "title           21\n",
       "url             21\n",
       "dtype: int64"
      ]
     },
     "execution_count": 31,
     "metadata": {},
     "output_type": "execute_result"
    }
   ],
   "source": [
    "anon_capt.count()"
   ]
  },
  {
   "cell_type": "markdown",
   "metadata": {},
   "source": [
    "#### Question 3: How long are the articles published by the anonymous authors?"
   ]
  },
  {
   "cell_type": "code",
   "execution_count": 32,
   "metadata": {},
   "outputs": [
    {
     "name": "stderr",
     "output_type": "stream",
     "text": [
      "/Library/Python/2.7/site-packages/ipykernel_launcher.py:1: SettingWithCopyWarning: \n",
      "A value is trying to be set on a copy of a slice from a DataFrame.\n",
      "Try using .loc[row_indexer,col_indexer] = value instead\n",
      "\n",
      "See the caveats in the documentation: http://pandas.pydata.org/pandas-docs/stable/indexing.html#indexing-view-versus-copy\n",
      "  \"\"\"Entry point for launching an IPython kernel.\n"
     ]
    }
   ],
   "source": [
    "anon_capt['article_len'] = anon_capt['article_text'].apply(lambda x : len(x))"
   ]
  },
  {
   "cell_type": "markdown",
   "metadata": {},
   "source": [
    "We will use the ```describe()``` function to give us a summary of the article lengths"
   ]
  },
  {
   "cell_type": "code",
   "execution_count": 39,
   "metadata": {},
   "outputs": [
    {
     "data": {
      "text/plain": [
       "count      21.000000\n",
       "mean      939.380952\n",
       "std       897.969180\n",
       "min       434.000000\n",
       "25%       525.000000\n",
       "50%       606.000000\n",
       "75%       702.000000\n",
       "max      3173.000000\n",
       "Name: article_len, dtype: float64"
      ]
     },
     "execution_count": 39,
     "metadata": {},
     "output_type": "execute_result"
    }
   ],
   "source": [
    "anon_capt['article_len'].describe()"
   ]
  },
  {
   "cell_type": "markdown",
   "metadata": {},
   "source": [
    "We will then use ```matplotlib```'s ```.hist()``` to determine the general buckets that the articles are in by article length."
   ]
  },
  {
   "cell_type": "code",
   "execution_count": 37,
   "metadata": {},
   "outputs": [
    {
     "data": {
      "text/plain": [
       "<matplotlib.axes._subplots.AxesSubplot at 0x10d97cd90>"
      ]
     },
     "execution_count": 37,
     "metadata": {},
     "output_type": "execute_result"
    },
    {
     "data": {
      "image/png": "[encoded data removed]",
      "text/plain": [
       "<matplotlib.figure.Figure at 0x10d403110>"
      ]
     },
     "metadata": {},
     "output_type": "display_data"
    }
   ],
   "source": [
    "anon_capt['article_len'].hist()"
   ]
  },
  {
   "cell_type": "code",
   "execution_count": 55,
   "metadata": {},
   "outputs": [
    {
     "name": "stdout",
     "output_type": "stream",
     "text": [
      "THE Governments penchant simply to announce fait accompli decisions without public input and with minimum information was again on display last week.First, at a reception for a delegation from Shanghai, China, Port of Spain Mayor Joel Martinez announced that the main business section of Charlotte Street, from Park Street to Independence Square, is to be officially designated Chinatown. Next came an announcement from Housing Minister Edmund Dillon that the Government has contracted Chinese firm, China Gezhouba International Engineering Company Ltd (CGGC), to build about 5,000 housing units across the country, beginning with 204 low to mid-income apartments at South Quay, Port of Spain and another 235 at Lady Hailes Avenue in San Fernando.Apart from the sparse information provided in the announcements, the public knows nothing about either project. In the case of the housing contract no details were provided on whether it went out for tender, how the expansion of housing further south of the city fits into a development plan for the regeneration of Port of Spain or how the errors made in nearby housing projects which have helped to fuel crime, for example, are being taken into account.In the case of the plan to designate Charlotte Street as Chinatown, Mayor Martinez said it was all part of the twinning of Port of Spain with Shanghai under Chinas Belt and Road Initiative. According to him, it will create an ideal environment for developing new cooperation techniques, exchange of experiences as well as joint reflections on specific issues that will find solutions and bring improvements.What exactly this means is anybodys guess. The only specific detail known about this is that the entry and exit points at Park Street and Independence Square will be marked by the name on arches to be built by Shanghai Construction. It remains unknown what considerations, if any, Mayor Martinez had taken into account in making this decision nor which interests, if any, he had consulted in doing so.It is true that several Chinese immigrants launched their business careers on Charlotte Street. It was at #31 Charlotte Street, for example, that a 20-year-old Carlton Mack took up a job as a grocery attendant with a small Chinese business, Allums Kwong Hing Co Ltd, from where he blazed a trail that spawned the supermarket and land development empire known today under the JT Allum brand.However, it is also the street where many migrants - from rural sugar estates, from islands notably the eastern Caribbean, the Middle East, and elsewhere put down roots in vending, trading and other forms of commerce. As one of the oldest streets in the capital, it is also at the corner of what is today Charlotte and Independence Square that the Spanish Governor Chacon constructed Government House.The history of Charlotte Street warrants its recognition as a heritage location but, unfortunately, nothing of its rich past is communicated by declaring it another of the worlds Chinatowns as if the sum of its being is as an enclave of one strand of its history.The proposed designation of Charlotte Street and the housing plan for South both require public consultation.\n",
      "\n",
      "\n",
      "Its very difficult almost impossible to throw away a pair of pants simply because its zipper is faulty when you grew up with no more than two or three pair of pants. As a child my grandmother patched our clothing until the entire piece of clothing seemed like it was made of a patch quilt. People who grew up knowing what it is to be hungry or to treat a meal with meat as a Sunday special have trouble throwing away ends of bread or leftovers.On the other hand, people who never knew what it is to be poor, hungry or in need cannot understand the plight of those struggling for survival. One wonders what kind of people, person or government would seize the pumps of farmers who are struggling to feed their families and, in the process, feed our nation.\n",
      "\n",
      "\n",
      "Having been out of the country for the past ten days, it makes you realise how truly dysfunctional Trinidad really is. No wonder why so many Trinidadians run and never return. Basic customer service functions are flawless in the United Statesno waiting, no attitudejust service. The service makes you want to spend your money as the atmosphere is so pleasant and welcoming.I was in Las Vegas, a prime tourist destination, where hundreds of thousands of people converge on this city in hope of a fun-filled vacation. Not one incident, not one negative customer service interaction, just thousands of people behaving in a civilised manner.\n",
      "\n",
      "\n",
      "This week, we consider some of the key takeaways from the 2019 Mid-Year Budget Review, presented by the Minister of Finance last Monday. We also look at select production trends in the energy sector and highlight some of the investment opportunities on the horizon.Economic growth improves According to data from the Central Statistical Office, Real Gross Domestic Product (GDP) experienced three consecutive quarters of growth in 2018 (Q1: 0.9 per cent, Q2: 2.1 per cent, Q3: 1.5 per cent), a turnaround from the overall contraction of 1.9 per cent and 6.5 per cent recorded in 2017 and 2016 respectively.\n",
      "\n",
      "\n",
      "MY teacher education in the years 1976 to 1978 at Corinth Teachers College still serves me in good stead, nothwithstanding from that time to now there have been major improvements in technology and an explosion of the social media.The basics remain the same. My concern today is the need to remind parents of the impact of the home life on the education and the eventual success or otherwise of their child. I do proffer some tips. You want your child to grow up to be healthy, happy and exceptional adults, but for that to happen your children need to be properly cared for, guided, loved, disciplined, taught and encouraged along the way.\n",
      "\n",
      "\n",
      "LAST weeks prison break has once again put the spotlight on the glaring failures to fully secure the nations jails.Good police work quickly led to the capture of six of the eight escapees, seven of whom are charged with murder, including one who is on 64 charges associated with the heinous murder of three persons including a 14-month-old baby, and the kidnapping of two young women. Those women who are now witnesses for the State, experienced extreme terror on learning that one of their torturers had escaped.To make matters worse, it took hours for the police to check in on them after wasting valuable time at the wrong house.How eight prisoners could have escaped from Remand Yard at the Golden Grove Prison in Arouca was a mystery until it was revealed that all eight were crowded into one cell, allowing a level of collusion in the cutting of two bars and the removal of a large brick to create a space of about two feet. Through this impossibly small space, eight men were apparently able to escape their cells and somehow duck the entire security system at the prison compound, scale two perimeter fences and disappear into the darkness between Tuesday night and dawn on Wednesday. Fortunately, their freedom was short-lived. Five were recaptured within hours with a sixth held the next day. All were caught in the Las Lomas area. Two remain at large with a $50,000 reward offered by Crime Stoppers for information leading to their recapture.In this period of high crime, a prison break is the last thing the country needs. In addition to fuelling fear among the public, it also consumes scarce police resources which are diverted from other matters to deal with the emergency.One expects that the Commissioner of Prisons and the Minister of National Security have both launched investigations into how such an incident could have happened and that both will soon account to the public for the lapse and outline how they plan to ensure it does not happen again.Planning for better policing at the nations prisons was announced as a high priority measure last year following a visit to the Maximum Security Prison at Golden Grove by National Security Minister Stuart Young and Commissioner of Police Gary Griffith following a meeting with prison administrators. That initiative came in the midst of several attacks on prison officers by persons said to be acting on the orders of incarcerated gang leaders who were calling shots on officers from behind bars. What action has since flowed from that announcement is unclear but whatever steps were taken, if any, they were clearly not enough to prevent last weeks jail-break.Like the countrys water infrastructure, the state of T&Ts prisons constitutes an emergency. The fact that eight men could have been put into one cell speaks volumes of the archaic infrastructure.It is time to face the reality of the urgent need for a significant investment in prison upgrade and transformation.Continuing to paper over cracks will only create gaping holes through which accused murderers can wiggle their way out to freedom, eight men at a time.\n",
      "\n",
      "\n",
      "Trinidad and Tobago, we are supposed to be entitled to the right to speak our minds freely on important issues affecting our society, without fear of harsh penalties designed solely to silence and put fear in people to prevent them from speaking out.We ought to be able to access important information more easily and hold the powers that be to account, but this right seems under threat at the moment. Exposing misbehaviour in high office is supposed to play a vital role in the healthy development process of our society, but instead, it seems that many in authority and the super wealthy continue to escape punishment for wrong-doing.\n",
      "\n",
      "\n",
      "Reference is made to the Saturday Express Editorial on Page 12, Celebrating Harold Hoyte. Mr Hoyte will be long remembered for all the things you mentioned and more. He was a tireless advocate and champion of the free press. Not mentioned is his support for democratic governance in the region and, more specifically, in Guyana during the critical period of authoritarian rule.I never met the Bajan gentleman, but spoke with him on the phone (from the US) during the period of the struggle against the Guyana Forbes Burnham/Desmond Hoyte dictatorships. We also spoke on a few occasions after the restoration of democracy in Guyana. Some of my viewpoints relating to Guyana were published in the Nation.\n",
      "\n",
      "\n",
      "The One Caribbean Media group (OCM) which includes the Express newspaper today pays respect to Barbados-born Caribbean visionary Harold Hoyte, whose recent passing we mourn.Mr Hoyte was founding editor of the Nation (part of the OCM group), the dominant newspaper in Barbados for much of its existence over the last 46 years. He was one of the leading lights in the formation of OCM. In paying her own tribute to him, OCM CEO Dawn Thomas described Mr Hoyte as a great champion, both of press freedom and of Caribbean unity. Personally, she said, she was grateful for the wealth of wisdom she gained from him over the years, and for the many words of wisdom during challenging times. He will be sincerely missed, but his remarkable legacy will live on.Mr Hoyte started his career in media as a copywriter with the Barbados Advocate in 1959. He would later move to Toronto, Canada, where he worked with the Globe and Mail newspaper and the Toronto Telegram, before becoming editor of the Contrast, Torontos first black newspaper. He would return to Barbados in 1973, and pursued a dream and a vision, defying considerable odds in the process. With a group of courageous friends and associates, he launched the Nation newspaper, and would spend the next 30 years as its editor, and then editor-in-chief. After his retirement he remained as editor emeritus, providing valuable guidance and direction to those at the helm.Describing him as a regional media champion, OCM noted in its public tribute to Mr Hoyte that he was moved by the limited success of the regional integration movement (Caricom) as well as earlier efforts. To this end, he dedicated his energies towards making this a reality in his chosen fields of journalism and business.For the stellar contributions he made on these fronts over the succeeding decades, he was to garner a long list of rewards and honours. These included such citations as Honorary Fellow, University of the West Indies, Honorary Doctor of Letters, University of the West Indies, Director of the Eastern Caribbean Press Council, Member of the Commonwealth Press Union and of the Inter-American Press Association.In 2003 he was awarded the Gold Crown of Merit by the Barbados government. Further afield, he was awarded the Maria Cabot Moors Award for press freedom by Columbia University. He was appointed to the board of the Barbados Central Bank and was also Deputy Chairman of the Barbados Law and Order Commission, and Chairman of the Substance Abuse Foundation.Above all, however, Harold Hoyte was among the most visionary leaders and innovators in Caribbean journalism for the decades during which he influenced generations across our region. His commitment to fairness, integrity and fearlessness in pursuit of the truth has become legendary to those who knew and worked with him.With some of those values captured in the several books he authored, his example remains a deep inspiration for generations to come.\n",
      "\n",
      "\n",
      "When youre in a relationship, shifting your focus to family can be complicated, because there are two families to contend with. Each will have its own quirks, difficulties, traditions, and dynamics. But perhaps one of the most tricky relationships to navigate is between you and your mother-in-law.Theres no right way to have a relationship with your mother-in-law. You might find you hit it off from the beginning, you may find that you never really break through and become friends. Thats OK. You dont have to become bosom buddies, but theres always room to bond with your mother-in-law and make your relationship stronger. Having a good relationship (even if its not a close one), will make life easier for you, your mother-in-law, your partner, and everyone in the family.\n",
      "\n",
      "\n",
      "Reducing domestic violence requires adherence to facts rather than hyperbole. This is necessary because, as decades-old research on psychology (mainly in the field of public service messaging) has shown, human beings tend to follow whatever they perceive to be social norms.And the impression given by every single gender activist, psychologist, media commentator and letter-writer is that most men abuse women. This contradicts both experience and data. At any given time, a mere six to eight per cent of couples are in abusive relationships in Trinidad and Tobago (United Nations 2010 Report on Violence in the Caribbean).\n",
      "\n",
      "\n"
     ]
    }
   ],
   "source": [
    "# for text in anon_capt.loc[anon_capt['article_len'] > 600, 'article_text']:\n",
    "#     print(text)\n",
    "#     print(\"\\n\")"
   ]
  },
  {
   "cell_type": "markdown",
   "metadata": {},
   "source": [
    "#### Question 4: Do authors publish more than once?"
   ]
  },
  {
   "cell_type": "code",
   "execution_count": 56,
   "metadata": {},
   "outputs": [],
   "source": [
    "# get all unique authors for articles with authors\n",
    "auth = df[df['author'] != 'undefined']"
   ]
  },
  {
   "cell_type": "code",
   "execution_count": 112,
   "metadata": {},
   "outputs": [
    {
     "data": {
      "text/plain": [
       "(62, 8)"
      ]
     },
     "execution_count": 112,
     "metadata": {},
     "output_type": "execute_result"
    }
   ],
   "source": [
    "# determine how many rows are there\n",
    "auth.shape"
   ]
  },
  {
   "cell_type": "code",
   "execution_count": 60,
   "metadata": {},
   "outputs": [],
   "source": [
    "# Calling the unique function gets all the unique author names\n",
    "all_authors = auth['author'].unique()"
   ]
  },
  {
   "cell_type": "code",
   "execution_count": 62,
   "metadata": {},
   "outputs": [
    {
     "data": {
      "text/plain": [
       "36"
      ]
     },
     "execution_count": 62,
     "metadata": {},
     "output_type": "execute_result"
    }
   ],
   "source": [
    "# we see only 36 authors out of 62 articles therefore there must be repeated authors\n",
    "len(all_authors)"
   ]
  },
  {
   "cell_type": "code",
   "execution_count": 63,
   "metadata": {},
   "outputs": [
    {
     "data": {
      "text/plain": [
       "array(['Gyasi Gonzales', 'Susan Mohammed', 'Carolyn Kissoon',\n",
       "       'Alexander Bruzual', 'Rickie Ramdass', 'Nikita Braxton-Benjamin',\n",
       "       'Leana Huntley', 'Barbara Gloudon', 'Peter Espeut',\n",
       "       'Kwame Laurence', 'Ian Prescott', 'Fazeer Mohammed',\n",
       "       'Shammi Kowlessar', 'Anna Ramdass', 'Camille Hunte',\n",
       "       'Elizabeth Williams', 'Mark Meredith ', 'Michael Mondezie',\n",
       "       'Kimberly Wallace', 'Ralph Maraj', 'Martin Daly', 'Lennox Grant',\n",
       "       'Sophia K Chote SC', 'Selwyn Cudjoe', 'Michelle Loubon',\n",
       "       'David Billington', 'Roger Seepersad', 'Leah Sorias', 'Ria Taitt',\n",
       "       'David Jessop', 'Vaneisa Baksh', 'Mary King', 'Brandpoint (BPT)',\n",
       "       'Media Release', 'Kimoy Leon Sing', 'Kim Boodram'], dtype=object)"
      ]
     },
     "execution_count": 63,
     "metadata": {},
     "output_type": "execute_result"
    }
   ],
   "source": [
    "all_authors"
   ]
  },
  {
   "cell_type": "markdown",
   "metadata": {},
   "source": [
    "To get a better view of the authors frequency we create a list of the frequencies of each author. Using that list and the list of name we will then create a DataFrame and finally do a bar plot of the top 5 publishers. "
   ]
  },
  {
   "cell_type": "code",
   "execution_count": 87,
   "metadata": {},
   "outputs": [],
   "source": [
    "freq = []\n",
    "for author in all_authors:\n",
    "    freq.append(auth[auth['author'] == author].count()[1])"
   ]
  },
  {
   "cell_type": "code",
   "execution_count": 105,
   "metadata": {},
   "outputs": [],
   "source": [
    "authors = pd.DataFrame({\"names\":all_authors, \"freq\":freq}) \n",
    "authors.sort_values(by=['freq'], ascending=False, inplace=True)"
   ]
  },
  {
   "cell_type": "code",
   "execution_count": 111,
   "metadata": {},
   "outputs": [
    {
     "data": {
      "text/plain": [
       "<Container object of 5 artists>"
      ]
     },
     "execution_count": 111,
     "metadata": {},
     "output_type": "execute_result"
    },
    {
     "data": {
      "image/png": "[encoded data removed]",
      "text/plain": [
       "<matplotlib.figure.Figure at 0x10eb00b10>"
      ]
     },
     "metadata": {},
     "output_type": "display_data"
    }
   ],
   "source": [
    "fig= plt.figure(figsize=(16,10))\n",
    "plt.bar(authors['names'].head(), authors['freq'].head())"
   ]
  },
  {
   "cell_type": "code",
   "execution_count": 113,
   "metadata": {},
   "outputs": [
    {
     "name": "stdout",
     "output_type": "stream",
     "text": [
      "(BPT) - Playing video games is not simply entertainment or an escape for middle school girls; it can be a confidence booster. The best games offer intellectual challenges, social interaction and a creative outlet. These games provide opportunities for young women to problem solve, be part of a group, express themselves and find their voice.For many tween/teen girls, gaming can be a star with many points, says Taina Maln of Star Stable, an online multi-player PC game designed for Gen Z girls. For some, a game can be about storytelling and adventure; for some, its about caretaking; for some, its about hobbies; for some, its about sport and competition; for some, its about socializing. For all, its about self-expression  about simultaneously fitting in and standing out.Here are five features and characteristics to consider when choosing video games for a tween or teen girl:1) Find games that challenge her to think.Games involving problem-solving help girls feel a sense of accomplishment. When girls analyze a problem and resolve it successfully, it boosts their confidence. Many games today incorporate problem-solving as part of the adventure, such as multi-player games where girls work together to solve quests or challenges.2) Look for games that require collaboration and teamwork.Games that encourage or even require girls to work together help players hone their collaboration and communication skills, while creating a sense of community. In-game friendships (sometimes with players many states away) can expand the world around them. Games rooted in a positive, shared social experience and teamwork encourage collaboration and friendship.3) Choose games that mirror her interests.Todays tween girls have varied interests, and there are games that support virtually every pursuit  art, music, sports or animals. In addition to immersing themselves in a game subject they love, they are likely to find other girls with the same passion to \"nerd out\" about horses or soccer or fantastical worlds.4) Research games that encourage self-expression.Todays girl gamers tend to prefer open world or sandbox games that let them be creators, where they are customizing characters, building worlds or directing the plot. Girls at this age are in a constant battle to fit in and stand out. Games that allow a customized experience will not only give them a sense of control and decisiveness, but will also let them put their own unique stamp on their game experience  which can be very empowering.5) Select games rich in storytelling and music.Just like a favorite movie, todays games must also include a clever and interesting story, rich characters and original music. Tween/teen girls are sophisticated consumers, and an evolving story line and fresh music are markers for a game that is worthy of its cost. In many cases, game play can spill over to socializing, where girls talk plot and how it will unfold, the location of hidden gems or why they love a new song. A game like Star Stable can be the springboard for turning a gamer into a creator, where girls are inspired to make music videos, write poetry or produce artwork.These days, gaming is so much more than a simple pastime. It can be a place where girls connect with people with similar interests, grow friendships and express themselves. Helping them find the right game can reinforce their favorite interests and increase their self-confidence, and maybe even make those tween and teen years a tiny bit easier, and more fun.\n",
      "\n",
      "\n",
      "(BPT) - Home is supposed to be a safe space, so it can be scary to think about things like fires. Unfortunately, fires are a real threat. Seven people die each day due to home fires, so it's important to be ready.Every home needs working smoke alarms and an escape plan for exiting the house. These are essential first steps, but there is an additional tool that dramatically reduces the spread of home fires, and the risk of dying from one: installing home fire sprinklers.Home fire sprinklers save livesYou probably see fire sprinklers in commercial places all the time; maybe where you work or at your favorite stores. These systems are an effective method for controlling fires quickly. Theyre less common in homes, but they work there just as well.The risk of dying in a home fire decreases by about 85 percent if sprinklers are present. Research shows when sprinklers were present, fires were kept to the room of origin 97 percent of the time. That means the sprinkler activates and puts out the fire before it has a chance to spread to other places in the home. The National Fire Protection Association and the Home Fire Sprinkler Coalition want you to know these facts:Only one sprinkler activates: If a fire starts, the closest sprinkler will activate, spraying water to control the flames, heat and deadly smoke. That fast control gives you time to escape to safety. In most cases, just one sprinkler is needed.Fire sprinklers use less water than fire hoses: When a sprinkler activates, it flows at a rate of 10-26 gallons of water per minute  a fraction of the water that fire hoses use. Because of the sprinklers fast action and less water flow, the property loss in a sprinklered home fire is far less than in an unsprinklered home fire.Home fires are deadly in 2 minutes or less: It takes 9-12 minutes or more for a fire department to get notification, respond and begin suppression. In that time, an uncontrolled fire will grow and spread through the home, becoming potentially deadly in 2 minutes or less. A sprinkler controls the fire before it can spread, protecting residents and the responding firefighters.Smoke alarms are not enough: Working smoke alarms are essential in every home. But they can only detect a fire, not fight it. Fire sprinklers detect the fire and automatically control it, saving lives and property.Sprinklers are reliable and easy to maintain: Fire sprinkler mishaps are generally less likely and less severe than home plumbing system problems. For regions subject to freezing temperatures, proper installation eliminates worries. Maintenance is simple.Take action now: Test your smoke alarms and practice your escape plan with your family. If you are thinking of building or buying a home, ask for fire sprinklers. They provide peace of mind, protecting you and your family should you ever face the threat of a home fire. Learn more at homefiresprinkler.org.\n",
      "\n",
      "\n",
      "(BPT) - Congratulations, college graduates! Youre all set to enter the job market, but do you have what it takes to get to and from interviews or work? It might be time to move on from worn-out, hand-me-down vehicles for your fresh start in life.Safety ratings and affordability are important considerations when it comes to purchasing a vehicle, but you should also know that youll need to budget for additional costs in your monthly expenses once you become an owner, said The Complete Idiots Guide to Buying or Leasing a Car author Jack R. Nerad.Buying a car doesnt have to break the bank, and grads should factor insurance, fuel and maintenance costs into their purchase decision.Here are four things to consider when shopping for a car.1. Vehicle safetyVehicle safety ratings are evaluated based on crashworthiness and crash preventability.The National Highway Traffic Safety Administration (NHTSA) has a 5-Star Ratings program, with more stars meaning the vehicle is safer, while the Insurance Institute of Highway Safety (IIHS) tests vehicles for crashworthiness, and crash avoidance and mitigation.I recommend looking at both the IIHS and NHTSA ratings to identify vehicles that are crashworthy and, importantly, have equipment that will help drivers avoid a crash, which is preferable to surviving one, said Nerad.Many modern vehicles are equipped with Adaptive Driver Assistance Systems like lane departure warning, blind spot information systems, and braking assistance technology to help prevent a collision or lessen its severity.2. Insurance costsInsurance should be top-of-mind when picking a car because itll protect you and your vehicle. Its role in the shopping process is two-fold: it can give you a sense of your monthly premium based on the car you select and it also lets you find the right company for your insurance needs ahead of making either purchase.Younger drivers generally have higher premiums because of their inexperience, and statistics show that driving experience has a significant impact on accidents, said Mercury Insurance Chief Claims Officer Randy Petro. We recommend that you speak with an insurance agent to help ensure you get the right amount of coverage at the best possible rate.Mercury recently examined model-year 2015-2018 vehicles with high ratings from NHTSA and IIHS to compile a top-10 list of the most affordable vehicles to insure for college grads. The list is based on a national average of the price for full coverage, but other factors can push that rate up or down. The 2016 Hyundai Santa Fe ranked first, while other Hyundai models, Kias and Hondas also made the list.3. Fuel economyFuel is a recurring expense for vehicle owners. A tip to determine how much itll cost each month is to factor in the size of the vehicles fuel tank, average miles driven and gas prices. Speeding, rapidly accelerating or braking aggressively burn through fuel at a faster rate, so its best to follow the speed limit and stay away from aggressive driving behaviors to save money on gas.4. Maintenance and repairsVehicle ownership includes being financially responsible for wear-and-tear and general maintenance, like oil changes, and tire and brake replacement. Owners manuals provide information about recommended services and frequency, and many are available online to help with your car-buying research.Its a good idea to start a repair fund early on to protect against potential rainy day blues once the manufacturers warranty expires.An extended warranty, like Mercurys Mechanical Protection plans, helps extend the life of a vehicle for up to seven years or 100,000 miles, said Nerad. This is something to consider to help cover the cost to repair your vehicle if it breaks down.Finding a safe, reliable vehicle will keep you moving forward in lifes journey, and these tips will help make it more affordable. Good luck, and enjoy the journey!\n",
      "\n",
      "\n",
      "(BPT) - If youve been diagnosed with rheumatoid arthritis (RA), youre far from alone.The inflammatory disease affects some 1.3 million adults in America, according to the National Institutes of Health.1,2Whats more, despite recent advances in treatments for the disease, many patients still experience ongoing, disruptive and often very painful symptoms.RA patient Catherine M. has learned to cope with RA by gaining a realistic understanding about what it means to have an autoimmune disease  what it can do to my body and how it impacts my life. Its all about balance, acceptance, and perseverance.Catherine has also learned to listen to her body and work with her RA healthcare team when her symptoms persist. If you are currently on treatment for your RA and your symptoms are still interfering with your daily life, your RA may not be well controlled. Consider scheduling an appointment with your RA healthcare team to discuss your symptoms and signs and learn what other options may exist to help you break out of the cycle of pain, fatigue and stiffness.Unrelieved joint pain and swelling. You may feel pain or stiffness, or notice puffiness, redness or warmth around your extremities (like your fingers, toes, wrists, knees, ankles, elbows, hips and/or shoulders). Its especially important to talk to your healthcare team if any of these symptoms are keeping you from carrying on with your daily activities.Morning stiffness. The early morning hours can be worse for people with RA who may experience more pain or stiffness after sleeping.3 If you notice that your RA-related pain is particularly debilitating or lasts longer than usual, its worth noting to your healthcare team.Whole-body symptoms. RA can affect your body, beyond just your joints. Some patients experience whole-body symptoms such as fatigue, muscle aches or a feeling of bad all over, which some doctors call malaise. Left uncontrolled, these symptoms can take both a mental and physical toll on your body as a whole.One of them is elevated C-Reactive Protein (CRP), a substance associated with inflammation produced in the liver in response to RA and other illnesses. High levels may indicate your RA inflammation is not being controlled by your current treatment.As Catherine says, Its important to have a really open communication about what your needs are and what goals you want to set for yourself. If your RA symptoms persist and impact your ability to do daily activities, its time to get ready to act, and talk with your healthcare team about other available treatment options.References:SAUS.SARI.19.04.2689 05/2019\n",
      "\n",
      "\n",
      "(BPT) - El Da de los Padres es una ocasin para demostrarle a Pap nuestro aprecio por todo lo que hace, grande o pequeo. Este ao, ofrzcale algo ms atractivo que la corbata tradicional, los equipos de golf o los accesorios para el asador.En general, los padres nunca tienen herramientas suficientes, y en dependencia de la personalidad del suyo, y lo que le agrada hacer, siempre hay algo que despertar su entusiasmo. Esta gua de herramientas le proporcionar los conocimientos que necesita para regalarle algo a Pap en su da que apreciar realmente.Para el amante de la tecnologa:Obsquiele algo que mantendr hermoso su csped y le ahorrar tiempo a la vez. Con el robot cortacsped Husqvarna Automower, podr sentarse cmodamente, con su bebida favorita, a contemplar asombrado cmo trabaja! Y no tendr que mover un dedo durante todo el verano para tener un csped que sea la envidia de la vecindad, y adems, podr ufanarse del robot cortacsped con sus amigos. El Automower 115H incluye instalacin profesional, de manera que Pap podr darse todo el crdito de la misma sin tener que asumir el trabajo de realizarla.Para el conservador del medioambiente:Ama su padre a la Madre Naturaleza? Si desea preservar el medioambiente y mantener al mismo tiempo la belleza de su csped, puede regalarle una recortadora alimentada por batera. Son herramientas fuertes, notablemente silenciosas, y casi sin vibracin. A la hora de comprar, tenga en cuenta que las de recortadoras de tubo curvo son ms ligeras y mejores para espacios de csped ms pequeos y canteros de flores. Por su parte, las de tubo recto con engranajes angulados son para trabajos de mayor envergadura y pueden recortar por debajo de setos, arbustos y cercas.Para el vido de potencia:Si a Pap le gusta la potencia, nada es ms atractivo que una motosierra nueva. Considere una motosierra inteligente de fcil arranque y uso sencillo, perfecta para cualquier temporada. La motosierra Husqvarna 130, totalmente nueva, trabaja con gasolina, pero est diseada para un bajo consumo de combustible. Adems, es ideal para tareas ligeras como poda de arbustos, tala de rboles o corte de lea.Para el dueo de una casa nueva:Si su padre acaba de mudar a una casa nueva, probablemente est creando su coleccin de herramientas. Y seguramente apreciar las esenciales bsicas. Considere armarle una caja de herramientas con todo lo que necesita para realizar tareas menores en el hogar. Un martillo, destornilladores, pinzas, cinta mtrica, clavos y tornillos les sern tiles en los prximos aos. Quiere ms? Pues cmprele una escalera o un taladro recargable.Para el que desea trabajar con comodidad:Si su padre tiene un patio extenso y le gusta hacer el trabajo por su cuenta, considere irse a lo grande y cmprele un cortacsped autopropulsado o un tractor para que trabaje con comodidad. Si escoge un tractor, asegrese de seleccionar un modelo verstil cuya plataforma de corte tenga el tamao adecuado. Los tractores cortacsped Husqvarna estn equipados con la capacidad de recogida, generacin de mantillo o expulsin lateral, y puede instalrsele una amplia gama de accesorios, desde un remolque, aspersor o sopladora de nieve de dos fases.Para el manitico del orden:Para el padre que est siempre atento al mantenimiento del orden y la limpieza, considere un soplador de hojas que le permitir realizar cualquier trabajo a plena potencia. Los sopladores de mano son generalmente ligeros y ms fciles de maniobrar en espacios reducidos, hacindolos ideales para proyectos ligeros de patio. Por su parte, los sopladores de mochila ofrecen potencia y velocidad de aire adicional para deshacerse de hojas, arena, gravilla y otros desechos.Para el amante de los dispositivos tecnolgicos:Hay gran abundancia de dispositivos tecnolgicos para obsequiarle a Pap en su da. Sin duda alguna, no habr equivocaciones a la hora de adquirir el regalo, gracias a una amplia disponibilidad, desde herramientas multiusos que caben en el bolsillo, a buscadores de vigas con lser que facilitan localizarlas en las paredes. Y si desea regalarle algo para utilizar en espacios al aire libre, considere una cmara de jardn para que pueda ver las criaturas que visitan el patio durante el da y la noche.La bsqueda del regalo ideal para Pap en el Da de los Padres no tiene que ser un acto fallido, pues hay una herramienta idnea para cada progenitor, desde los amantes de dispositivos tecnolgicos, a los vidos de potencia.\n",
      "\n",
      "\n",
      "(BPT) - Fathers Day is a time to show Dad appreciation for all he does, big and small. This year, get him something more exciting than the traditional tie, golf gear or barbecue accessories.In general, dads can never have enough tools, and depending on your dads personality and what he likes to do, there's always something that will rev his engine. This tool guide will give you the insight you need to get him something that he'll truly appreciate this Father's Day.For the tech lover:Give him something that will keep the lawn looking great and save him time. With a Husqvarna Automower robotic lawn mower, he can sit back, sip his favorite beverage and watch it in wonder! He won't have to lift a finger all summer long to get a lawn that's the envy of the neighborhood, plus he can brag about the robot mower to the guys. The Automower 115H already includes professional installation, so Dad can take all the credit without any of the work.For the green guy:Does Dad have a thing for Mother Nature? If he wants to go green while keeping his green lawn looking great, consider gifting him a battery-powered weed trimmer. They are strong, remarkably silent and nearly vibration-free. Keep in mind when shopping, curved shaft trimmers are lighter and great for trimming smaller lawns and flowerbeds. Straight shaft trimmers with bevel gears are designed for bigger jobs and can reach under hedges, bushes and fences.For the power hungry:If Dad likes power, nothing is more exciting than a brand-new chainsaw. Consider getting him an easy-to-start and simple-to-use smart chainsaw that is perfect for any season. The all-new Husqvarna 130 chainsaw is gas-powered yet designed for low fuel consumption. It is ideal for light tasks like shrub pruning, tree felling or cutting firewood.For the new homeowner:If he just moved into a new home, he's probably building up his tool collection. Basic essentials are sure to be appreciated. Consider building him a toolbox with all the basics needed for minor household tasks. A hammer, screwdrivers, wrenches, a tape measure, nails and screws will come in handy for years to come. Want to go bigger? Get him a ladder or rechargeable drill.For the laid-back cruiser:If your dad has a larger yard and likes to get the job done himself, consider going big and gifting him a riding lawn mower or lawn tractor to cruise through his yard work. When choosing a rider, be sure to select a versatile model with the right-sized cutting deck. Husqvarna riding lawn mowers are equipped with the ability to side discharge, mulch or bag and can be fitted with a variety of accessories from a trailer to a spreader to a two-stage snow blower.For the neat freak:For the dad who is always taking care of messes, consider a leaf blower that will allow him to power through any job. Handheld leaf blowers are typically lightweight and easier to maneuver into tight spaces, making them ideal for light-duty yard projects. Backpack leaf blowers provide the extra power and air speed to clear leaves, sand, gravel and other debris.For the gadget guy:There is no shortage of great gadgets for Dad this Father's Day. From multi-use tools that fit right in his pocket to laser stud finders that make it easy to find studs in the wall, you can't go wrong with gadget gifts. For the outdoors, consider gifting him a garden camera so that he can see all the critters that come into the yard day and night.Finding the right gift for your dad this Fathers Day doesnt have to be a shot in the dark. From gadget guys to power lovers, theres a tool out there for every dad.\n",
      "\n",
      "\n",
      "(BPT) - Elissa Reynolds was preparing to move to Indianapolis and begin an exciting new chapter in her life. Knowing her upcoming move meant she would be without health insurance for a time, the 36-year-old decided to get any potential health issues examined while she still had coverage.After experiencing dizziness and a rapid heart rate, Reynolds visited Northeast Georgia Medical Center in Gainesville, Georgia, where scans of her lungs revealed pulmonary emboli  blockages in her lung arteries. Doctors determined they were a secondary effect of an unknown cancer that had started in her colon and spread to her liver. Having displayed no cancer symptoms, Reynolds was shocked by a stage four colorectal cancer diagnosis.It was a strange conversation with my doctors, Reynolds says. But I was determined to do whatever it took to beat cancer, so I began researching all of the treatment options I could.World-class care in her communityAt first, Reynolds mother was adamant that she travel to a large cancer care center in a major city for treatment. However, her research led her to realize she could receive cutting-edge care close to home.Meeting my oncologist, Dr. Christina Saurel, and surgeon, Dr. Ken Dixon, gave me a whole new perspective on the level of innovative care I could receive locally, she says.While Reynolds and her health care team initially embarked on a traditional chemotherapy course, due to the advanced nature of her cancer, they also considered other options.Because Elissa presented with an advanced colon cancer that had spread to her liver, we were uncertain of her care and had to think outside the box, Saurel says. Although one of her tumors responded to chemotherapy and shrank to the point Dr. Dixon could remove it, the other tumor did not, which meant we had to get creative.A new option for personalized treatmentThankfully, Reynolds had other options to consider because Dixon did something many cancer surgeons dont  after removing her tumor, he preserved her living tumor tissue and shipped it to a state-of-the-art laboratory, where specialists tested the cells with more than 130 drugs to see what potential future treatments would be most effective.Dixon understands no two cancers are the same, and he knew that her living tumor sample could offer information on how to treat her unique cancer that a traditional tissue sample could not. He feels so strongly about this matter that he founded SpeciCare, an organization dedicated to helping patients across the country preserve their living tumor tissue for their own benefit.Under current practice guidelines, cancer tissue dies when it is removed, which limits the information it can provide, Dixon says. However, if a tumor is preserved alive and tested, it has the power to unlock the secret to personalized care. SpeciCare links research, clinical care and precision medicine, so patients have the greatest chance at survival.Hope for the futureThe tests on Reynolds living tumor tissue found 20 new treatment options for her care team to consider that likely would have remained unknown if Dixon had not preserved her tumor. In fact, none of the new therapy options revealed through the tests are commonly used for metastatic colorectal cancer; traditionally, they are prescribed for other cancers, such as leukemia and breast cancer.Cancer is very tricky  you cant always predict how a persons unique cancer will react to a drug based on its location, says Dixon.For Reynolds, it doesn't matter how the drugs are normally used; her only concern is whether they kill her tumor cells. Now, because of the new treatment options available to her, Reynolds knows that if her cancer stops responding to one drug, there are other therapies she can try. Also, her living tumor tissue tests helped identify two clinical trials she can pursue.Without SpeciCare there would be no more options for me; Id be living with the tumor. Now this is giving me hope of shrinking it and having it removed, Reynolds says. This has opened up so many more options for treatment. Its been a crazy journey, but its also been pretty miraculous.To learn more, visit specicare.com/hope or call 833-242-2873.\n",
      "\n",
      "\n"
     ]
    }
   ],
   "source": [
    "# for text in auth.loc[auth['author'] =='Brandpoint (BPT)', 'article_text']:\n",
    "#     print(text)\n",
    "#     print(\"\\n\")"
   ]
  },
  {
   "cell_type": "code",
   "execution_count": null,
   "metadata": {},
   "outputs": [],
   "source": []
  }
 ],
 "metadata": {
  "kernelspec": {
   "display_name": "Python 2",
   "language": "python",
   "name": "python2"
  },
  "language_info": {
   "codemirror_mode": {
    "name": "ipython",
    "version": 2
   },
   "file_extension": ".py",
   "mimetype": "text/x-python",
   "name": "python",
   "nbconvert_exporter": "python",
   "pygments_lexer": "ipython2",
   "version": "2.7.10"
  }
 },
 "nbformat": 4,
 "nbformat_minor": 2
}
